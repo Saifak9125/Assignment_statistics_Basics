{
 "cells": [
  {
   "cell_type": "markdown",
   "id": "a3a2cf5b-9e02-4475-9f9d-ad834c1c27f8",
   "metadata": {},
   "source": [
    "# Assignment : Statistics Basic"
   ]
  },
  {
   "cell_type": "markdown",
   "id": "7699d126-2484-496a-8ce4-05eca22719a9",
   "metadata": {},
   "source": [
    "# 1. Explain the different types of data (qualitative and quantitative) and provide examples of each. Discuss nominal, ordinal, interval, and ratio scales."
   ]
  },
  {
   "cell_type": "markdown",
   "id": "fd297ba3-0092-45b2-876c-a9d326384a7e",
   "metadata": {},
   "source": [
    "## Data : Data is a collection of facts and pieces of information.\n",
    "### Data can be broadly classified into two categories:\n",
    "### 1. Qualitative Data\n",
    "### 2. Quantitative Data"
   ]
  },
  {
   "cell_type": "markdown",
   "id": "e113cfb0-1cbf-4c37-a22f-80e010883f60",
   "metadata": {},
   "source": [
    "## 1. Qualitative Data :"
   ]
  },
  {
   "cell_type": "markdown",
   "id": "0211a15b-20ef-464f-8cc7-cc637a1bc550",
   "metadata": {},
   "source": [
    "### Qualitative data is also known as Categorical Data . this type of data describes the quality and characterstics of data. it is non-numerical and often called subjective.\n",
    "### Example :"
   ]
  },
  {
   "cell_type": "markdown",
   "id": "46a43042-b335-4caa-b513-13df7de319e3",
   "metadata": {},
   "source": [
    "### Gender(Male,Female)\n",
    "### Color(red,blue,green)\n",
    "### Nationality(Indian,American)"
   ]
  },
  {
   "cell_type": "markdown",
   "id": "f5df78ed-49ad-4eab-bba5-ac1120a0a918",
   "metadata": {},
   "source": [
    "## 2. Quantitaive Data:"
   ]
  },
  {
   "cell_type": "markdown",
   "id": "232af0de-d1c0-4378-8113-d9f372c46bda",
   "metadata": {},
   "source": [
    "### Quantitative Data is also known as Numerical data. This type of data is consist of numbers that represent the quantities or measurements. this type of data is countable and measurable often called objective.\n",
    "\n",
    "### Example:"
   ]
  },
  {
   "cell_type": "markdown",
   "id": "0ec6c1d1-d0e8-4140-8ab1-dcebd7ab7eee",
   "metadata": {},
   "source": [
    "### Cars(2,3,4,5)\n",
    "### Age(22,23,24,25)\n",
    "### Weight(52 Kg, 55 kg)"
   ]
  },
  {
   "cell_type": "markdown",
   "id": "d8a0eb5a-78b9-4c83-81c7-9e6b716cc3d1",
   "metadata": {},
   "source": [
    "## Qualitative data is further diveded into two scale of measurement:\n",
    "### 1. Nominal Scale\n",
    "### 2. Ordinal Scale"
   ]
  },
  {
   "cell_type": "markdown",
   "id": "64a53dcc-59f4-47f1-99e9-7b2586ed854c",
   "metadata": {},
   "source": [
    "## 1. Nominal Scale:"
   ]
  },
  {
   "cell_type": "markdown",
   "id": "3f163149-7924-43b5-8709-5bb1e3ed9a1d",
   "metadata": {},
   "source": [
    "### Nominal scale is a most basic level of measurement used to label the variable without any specific order. \n",
    "### Gender\n",
    "### Marital Status\n",
    "### Eye Color"
   ]
  },
  {
   "cell_type": "markdown",
   "id": "a2d901ca-6ebb-4f61-9dca-cb87b3c4d596",
   "metadata": {},
   "source": [
    "## 2. Ordinal Scale:"
   ]
  },
  {
   "cell_type": "markdown",
   "id": "d0671154-633c-4720-be60-3d5a51b6aac0",
   "metadata": {},
   "source": [
    "### Ordinal Scale provides a sense of order or ranking but the diffrenece between categories is not measurable.\n",
    "### Educational level(HighSchool,Intermediate,Bachelor)\n",
    "### Rating(1Star,2Star,3Star)\n",
    "### Devision(1st,2nd,3rd)"
   ]
  },
  {
   "cell_type": "markdown",
   "id": "8e443fbf-19fb-4c2d-9376-9eda202d7d83",
   "metadata": {},
   "source": [
    "## Quantitative data is further diveded into two scale of measurement:\n",
    "### 1. Interval Scale\n",
    "### 2. Ratio Scale"
   ]
  },
  {
   "cell_type": "markdown",
   "id": "d8a99346-d8c0-46c5-8e18-fe86f47e85b2",
   "metadata": {},
   "source": [
    "## 1. Interval Scale:"
   ]
  },
  {
   "cell_type": "markdown",
   "id": "5b491352-e295-4244-b755-34ee16af1dd0",
   "metadata": {},
   "source": [
    "### Data is categorized with a specific order, and the difference between categories is measurable.\n",
    "### Temperature\n",
    "### IQ Score\n",
    "### Date"
   ]
  },
  {
   "cell_type": "markdown",
   "id": "8af02ac0-3cb7-40d3-b247-fbf0380af544",
   "metadata": {},
   "source": [
    "## 2. Ratio Scale:"
   ]
  },
  {
   "cell_type": "markdown",
   "id": "bddaed42-7fbd-40be-ad12-ba530dd1829d",
   "metadata": {},
   "source": [
    "### Data is categorized with a specific order, the difference between categories is measurable, and there's a true zero point.\n",
    "### Height\n",
    "### Weight\n",
    "### income"
   ]
  },
  {
   "cell_type": "markdown",
   "id": "c6658909-879d-475e-8087-af7bb80fe21e",
   "metadata": {},
   "source": [
    "# 2. What are the measures of central tendency, and when should you use each? Discuss the mean, median, and mode with examples and situations where each is appropriate."
   ]
  },
  {
   "cell_type": "markdown",
   "id": "3a7c7acb-3b19-440b-aa42-457cb4fa434d",
   "metadata": {},
   "source": [
    "## Measures of Central Tendency :"
   ]
  },
  {
   "cell_type": "markdown",
   "id": "80bb6189-3cfe-45bf-8808-bb38cbfcb0e5",
   "metadata": {},
   "source": [
    "### A measure of central tendency is summary statics that represent the centre point or typical value of a dataset. these measures shows where the most value distribution is falls and also known as central location of distribution . there are three most common measures are mean, median and mod. these measures calculates the central point's location using different methods."
   ]
  },
  {
   "cell_type": "markdown",
   "id": "4ae481cd-79f7-45f4-8d40-c27ef964db4e",
   "metadata": {},
   "source": [
    "## 1. Mean :"
   ]
  },
  {
   "cell_type": "markdown",
   "id": "47408458-a476-47a1-93ae-53ac2193d195",
   "metadata": {},
   "source": [
    "### Mean is the arithmetic average; for calculating the mean add up all the values and divide by number of observation in your dataset.\n",
    "### Example :"
   ]
  },
  {
   "cell_type": "markdown",
   "id": "3ea300c6-4bcf-4bef-8c02-a0f03f6f7095",
   "metadata": {},
   "source": [
    "### Weight of the person in the lift (56,58,65,63,68)\n",
    "### The Mean is (56,58,65,63,68)/5 = 62.0"
   ]
  },
  {
   "cell_type": "markdown",
   "id": "8d8b1e2b-cc8e-43cd-8df1-3dc29d5d5a01",
   "metadata": {},
   "source": [
    "## 2. Median :"
   ]
  },
  {
   "cell_type": "markdown",
   "id": "339faae5-49fc-4161-99c7-fab760902781",
   "metadata": {},
   "source": [
    "### The Median for the sample data arranged in increasing order is defined as:\n",
    "### 1. if \"n\" is odd number then median is middle value.\n",
    "### 2. if \"n\" is even number then median is midaway between the two middle values.\n",
    "\n",
    "### Example:"
   ]
  },
  {
   "cell_type": "markdown",
   "id": "fe289c2b-cfcb-4706-aa77-7440e4f5f33d",
   "metadata": {},
   "source": [
    "### if \"n\" is odd \n",
    "### Weight of the person :56,58,63,65,68\n",
    "### The median is 63"
   ]
  },
  {
   "cell_type": "markdown",
   "id": "e3a67c87-ffa6-478b-8503-24b74941dcae",
   "metadata": {},
   "source": [
    "### if \"n\" is even\n",
    "### Weight of the person : 56,58,63,65,68,70\n",
    "### The median is (63+65)/2 = 64.0 "
   ]
  },
  {
   "cell_type": "markdown",
   "id": "78fc4620-49cf-4ad8-8402-98aae8d5a564",
   "metadata": {},
   "source": [
    "## 3. Mode:"
   ]
  },
  {
   "cell_type": "markdown",
   "id": "0f91c4af-8cd5-4411-b309-51c7116c348a",
   "metadata": {},
   "source": [
    "### The Mode is the value that occures most frequently in a dataset, i.e has the heighest frequency.On the bar chart mode is the highest bar.\n",
    "### Example:"
   ]
  },
  {
   "cell_type": "markdown",
   "id": "08edd343-f0ea-4355-937f-f2c96229de84",
   "metadata": {},
   "source": [
    "### Given the data set of height(cm)\n",
    "### height = (180,167,154,167,152,155,176,167)\n",
    "### Here 167 is repeated 3 times so mode is 167"
   ]
  },
  {
   "cell_type": "markdown",
   "id": "40b26f29-1f50-47d9-8333-3ee33b360720",
   "metadata": {},
   "source": [
    "# 3. Explain the concept of dispersion. How do variance and standard deviation measure the spread of data?"
   ]
  },
  {
   "cell_type": "markdown",
   "id": "cb4dd2d6-6adf-4e3f-bf07-3c5e59c4c273",
   "metadata": {},
   "source": [
    "## Dispersion :"
   ]
  },
  {
   "cell_type": "markdown",
   "id": "160b3ac9-ebed-46d9-a1d0-72d0b8752a5b",
   "metadata": {},
   "source": [
    "### Dispersion refers to the extent to which data points in a dataset differ from the central value (like the mean or median). It shows how much variability, or spread, there is in the data. Measuring dispersion is important because it provides insights into the data's consistency, reliability, and overall range"
   ]
  },
  {
   "cell_type": "markdown",
   "id": "88db1525-34a4-4be2-8bdb-4224478e39b1",
   "metadata": {},
   "source": [
    "### Two key measures of dispersion are variance and standard deviation."
   ]
  },
  {
   "cell_type": "markdown",
   "id": "ece06a7a-af85-4351-8379-77e06a643c82",
   "metadata": {},
   "source": [
    "## 1. Variance:"
   ]
  },
  {
   "cell_type": "markdown",
   "id": "ca34dd63-4916-429f-80d3-a0f11922ea84",
   "metadata": {},
   "source": [
    "### > Measures the average squared deviation of each data point from the mean.\n",
    "### > A higher variance indicates greater spread, while a lower variance suggests data points are closer to the mean.\n",
    "### Formula:"
   ]
  },
  {
   "cell_type": "markdown",
   "id": "19615645-8036-4e14-83b5-d169e3491399",
   "metadata": {},
   "source": [
    "### Variance (σ²) = Σ(xᵢ - μ)² / N"
   ]
  },
  {
   "cell_type": "markdown",
   "id": "60b004f7-3b01-485d-9422-a5fd66c7a4fd",
   "metadata": {},
   "source": [
    "### σ² = variance\n",
    "### Xi = individual data point\n",
    "### μ = Mean of data\n",
    "### N = Total number of data points"
   ]
  },
  {
   "cell_type": "markdown",
   "id": "12c6b51a-0bff-4c11-9072-84bdccc5bdd2",
   "metadata": {},
   "source": [
    "## 2. Standard Deviation:"
   ]
  },
  {
   "cell_type": "markdown",
   "id": "ccdc6331-4388-4a6b-b832-61f2502a10cd",
   "metadata": {},
   "source": [
    "### > The square root of the variance.\n",
    "### > It provides a more interpretable measure of spread, as it is in the same units as the original data.\n",
    "### > A higher standard deviation indicates greater variability, while a lower standard deviation suggests less variability.\n",
    "### > Formula:"
   ]
  },
  {
   "cell_type": "markdown",
   "id": "72a4b27b-498c-4e6f-9460-78d545c7d445",
   "metadata": {},
   "source": [
    "### Standard Deviation (σ) = √Variance"
   ]
  },
  {
   "cell_type": "markdown",
   "id": "5d079267-92a8-419c-8bb1-78f738a3fa30",
   "metadata": {},
   "source": [
    "# 4. What is a box plot, and what can it tell you about the distribution of data?"
   ]
  },
  {
   "cell_type": "markdown",
   "id": "431ce61a-0fde-4e1d-9631-437ba8ced0eb",
   "metadata": {},
   "source": [
    "### A box plot, also known as a box-and-whisker plot, is a visual representation of a dataset's distribution. It displays key summary statistics, including the minimum, first quartile (Q1), median, third quartile (Q3), and maximum values"
   ]
  },
  {
   "cell_type": "markdown",
   "id": "f26d0559-3fed-4e21-9a48-e9d78a4a3865",
   "metadata": {},
   "source": [
    "### Component of box plot:"
   ]
  },
  {
   "cell_type": "markdown",
   "id": "6b150c73-bd61-4df5-804b-82d5532f30a9",
   "metadata": {},
   "source": [
    "### A typical boxplot is consist of following elements: "
   ]
  },
  {
   "cell_type": "markdown",
   "id": "2ebbb4ff-6fd1-4d97-a291-c9a9d115ccdd",
   "metadata": {},
   "source": [
    "## 1. Median(Q2):"
   ]
  },
  {
   "cell_type": "markdown",
   "id": "905a3947-60ac-45d3-ac39-087edcc30322",
   "metadata": {},
   "source": [
    "### The middle value of the dataset, dividing it into two halves. It is shown by a line inside the box."
   ]
  },
  {
   "cell_type": "markdown",
   "id": "f44cf8a3-0f04-4c12-8543-5310b72f40a7",
   "metadata": {},
   "source": [
    "## 2. Quartiles (Q1 and Q3):"
   ]
  },
  {
   "cell_type": "markdown",
   "id": "36a6dea9-bd4a-4af7-80f9-2d139419c3d0",
   "metadata": {},
   "source": [
    "### Q1 (First Quartile): The median of the lower half of the data (25th percentile)."
   ]
  },
  {
   "cell_type": "markdown",
   "id": "b34e88b9-dbc5-4d04-830c-92e55862b6b5",
   "metadata": {},
   "source": [
    "###  Q3 (Third Quartile): The median of the upper half of the data (75th percentile)."
   ]
  },
  {
   "cell_type": "markdown",
   "id": "3399549f-ad8e-4f28-abd1-f79e42965d7c",
   "metadata": {},
   "source": [
    "### Together, Q1 and Q3 form the edges of the box, and the interquartile range (IQR) is the difference between them (IQR = Q3 - Q1)."
   ]
  },
  {
   "cell_type": "markdown",
   "id": "94ef123d-4604-4fd4-822d-1e02a8ef1ea7",
   "metadata": {},
   "source": [
    "## Whisker:"
   ]
  },
  {
   "cell_type": "markdown",
   "id": "4dec493b-a7e2-4c7d-af17-c63d22b1d6c3",
   "metadata": {},
   "source": [
    "###  Lines extending from the box that represent the range of the data within 1.5 times the IQR from Q1 and Q3."
   ]
  },
  {
   "cell_type": "markdown",
   "id": "ae92ad47-ed92-4171-81f0-f0b38f36a032",
   "metadata": {},
   "source": [
    "### The lower whisker extends from Q1 to the smallest data point within 1.5 × IQR.\n",
    "### The upper whisker extends from Q3 to the largest data point within 1.5 × IQR."
   ]
  },
  {
   "cell_type": "markdown",
   "id": "ce638cf7-4c15-4337-be6f-4895811bffe3",
   "metadata": {},
   "source": [
    "## 4. Outliers:"
   ]
  },
  {
   "cell_type": "markdown",
   "id": "addee5e2-6a74-4536-a48b-8b435d4b111a",
   "metadata": {},
   "source": [
    "### Data points outside 1.5 × IQR from Q1 or Q3 are marked as individual points beyond the whiskers. They represent extreme values that fall outside the \"typical\" range of the data."
   ]
  },
  {
   "cell_type": "markdown",
   "id": "e630ecbd-ccce-4fb4-b409-9d115d71d075",
   "metadata": {},
   "source": [
    "### A box plot provides a quick and informative way to understand several aspects of data distribution:"
   ]
  },
  {
   "cell_type": "markdown",
   "id": "84693d5b-4ca6-4105-90dc-85ecc78f13b4",
   "metadata": {},
   "source": [
    "## 1. Center tendenecy:"
   ]
  },
  {
   "cell_type": "markdown",
   "id": "5a0ffb7c-c66a-437e-b266-e7b008e3360c",
   "metadata": {},
   "source": [
    "### The median, represented by the line within the box.indicates the middle value of the data set."
   ]
  },
  {
   "cell_type": "markdown",
   "id": "b3a56d4c-b42a-46c4-90ff-eed514a723c6",
   "metadata": {},
   "source": [
    "## 2.Spread and Variability"
   ]
  },
  {
   "cell_type": "markdown",
   "id": "eeb4d44f-e9bb-4566-8d14-f51fe5d475c4",
   "metadata": {},
   "source": [
    "### The box itself represents the interquartile range (IQR), which shows the middle 50% of the data.\n",
    "### The whiskers extend from the box to the minimum and maximum values, giving a sense of the overall range."
   ]
  },
  {
   "cell_type": "markdown",
   "id": "ef8f353d-06f4-4096-bf7d-2cf789cb3fb0",
   "metadata": {},
   "source": [
    "## 3. Skewness:"
   ]
  },
  {
   "cell_type": "markdown",
   "id": "00edee66-3a63-4ba4-b628-320eceffc7ba",
   "metadata": {},
   "source": [
    "### The position of the median within the box can indicate skewness:"
   ]
  },
  {
   "cell_type": "markdown",
   "id": "cbdc4d9a-a961-40f0-8db7-9b0acc88555a",
   "metadata": {},
   "source": [
    "### If the median is closer to the bottom of the box, the data is positively skewed (tail to the right)."
   ]
  },
  {
   "cell_type": "markdown",
   "id": "a6ae5d39-7067-4ae2-9aee-7e4a9a3b4565",
   "metadata": {},
   "source": [
    "### If the median is closer to the top of the box, the data is negatively skewed (tail to the left)."
   ]
  },
  {
   "cell_type": "markdown",
   "id": "7b5f6519-b6e2-4384-b74c-6df4d1a930a7",
   "metadata": {},
   "source": [
    "### If the median is roughly in the middle, the data is symmetric."
   ]
  },
  {
   "cell_type": "markdown",
   "id": "5fc68c35-a555-45ca-90aa-77aa994c518b",
   "metadata": {},
   "source": [
    "# 5. Discuss the role of random sampling in making inferences about populations."
   ]
  },
  {
   "cell_type": "markdown",
   "id": "e313ded9-c693-45c4-a173-fc1bb8b71b15",
   "metadata": {},
   "source": [
    "### Random sampling plays an important role for making valid inference about the population.it involves the slecting of subset(sample) of individual from the entire data(population) in such a way that each member of the population has equal chance of being chosen. This approach is essential for esuring that the sample acurately refleclect the charcaterstics of the entire population,allowing researchers to draw generalizable conclusions with reduced bias."
   ]
  },
  {
   "cell_type": "markdown",
   "id": "79e12978-a905-49dd-92fc-3a355c01971e",
   "metadata": {},
   "source": [
    "## Importance of random sampling in inference"
   ]
  },
  {
   "cell_type": "markdown",
   "id": "b5278e06-ca68-4bd8-98b9-d477ebe316fd",
   "metadata": {},
   "source": [
    "## 1. Reduce Bias:"
   ]
  },
  {
   "cell_type": "markdown",
   "id": "67d0ef06-9c2f-4d65-a5ba-1bba0aa45982",
   "metadata": {},
   "source": [
    "### By giving each member of the population an equal chance of selection, random sampling minimizes selection bias. This helps prevent certain groups from being over- or under-represented in the sample, which would distort findings and lead to inaccurate inferences."
   ]
  },
  {
   "cell_type": "markdown",
   "id": "c32a3bef-3ec8-49a8-a1d0-4396907bf765",
   "metadata": {},
   "source": [
    "## 2. Enhance Representativeness:"
   ]
  },
  {
   "cell_type": "markdown",
   "id": "7235e761-7525-4735-a3a8-42968814a77a",
   "metadata": {},
   "source": [
    "### A truly random sample is more likely to capture the diversity and characteristics of the entire population. This makes it more likely that the results of the study will apply to the broader population rather than just the sample itself."
   ]
  },
  {
   "cell_type": "markdown",
   "id": "eda4522c-6f1c-4b1a-81dd-2df406fb6798",
   "metadata": {},
   "source": [
    "## 3. Enable Generalization:"
   ]
  },
  {
   "cell_type": "markdown",
   "id": "33f8830a-1f68-47e9-bbb1-d8645972a5b4",
   "metadata": {},
   "source": [
    "### When a random sample accurately represents the population, researchers can generalize their findings to the entire population."
   ]
  },
  {
   "cell_type": "markdown",
   "id": "724aed12-9433-4111-9884-a8a236eaa332",
   "metadata": {},
   "source": [
    "## 4. Foundation for Probability Theory:"
   ]
  },
  {
   "cell_type": "markdown",
   "id": "32e6ccd9-2e2f-4cbc-a661-dac3e1a3e61e",
   "metadata": {},
   "source": [
    "### Random sampling aligns with probability theory, which provides the mathematical foundation for making inferences. "
   ]
  },
  {
   "cell_type": "markdown",
   "id": "9525e4d3-c916-41db-8610-ec09e16aaebf",
   "metadata": {},
   "source": [
    "## Type of Random Sampling Techniques:"
   ]
  },
  {
   "cell_type": "markdown",
   "id": "0697a8c4-2fd1-4edb-b300-9cf9a69e859b",
   "metadata": {},
   "source": [
    "## 1. Simple Random Sampling:"
   ]
  },
  {
   "cell_type": "markdown",
   "id": "8afbaa86-6e61-4d8c-94f8-8f8500e60526",
   "metadata": {},
   "source": [
    "### Every member of the population has an equal chance of selection. This can be done by drawing names out of a hat or using random number generators."
   ]
  },
  {
   "cell_type": "markdown",
   "id": "511bf5c6-ce9e-4820-9a02-bba676c50bb4",
   "metadata": {},
   "source": [
    "## 2. Stratified Random Sampling:"
   ]
  },
  {
   "cell_type": "markdown",
   "id": "b5bdedab-b5c7-428b-bded-6eb05d8c6518",
   "metadata": {},
   "source": [
    "### The population is divided into subgroups (strata) based on a shared characteristic, and a random sample is taken from each subgroup. This ensures representation across key characteristics, such as age groups or income levels."
   ]
  },
  {
   "cell_type": "markdown",
   "id": "d7ad3e3f-da4c-427b-bf03-855fd9c8e992",
   "metadata": {},
   "source": [
    "## 3. Systematic Sampling:"
   ]
  },
  {
   "cell_type": "markdown",
   "id": "9a9e531f-1350-4182-80ea-2e2780634ba8",
   "metadata": {},
   "source": [
    "###  A sample is created by selecting every nth individual in a list of the population. This method is often simpler than pure random sampling but can be problematic if there is a hidden pattern in the population order."
   ]
  },
  {
   "cell_type": "markdown",
   "id": "9e90a097-77a6-41b8-afde-ee9a085a79ff",
   "metadata": {},
   "source": [
    "## 4. Cluster Sampling:"
   ]
  },
  {
   "cell_type": "markdown",
   "id": "d32ed3fc-2069-4476-977f-ac2c0e0c8656",
   "metadata": {},
   "source": [
    "### The population is divided into clusters, and a random sample of clusters is selected. All members of the chosen clusters are then included in the sample. This method is cost-effective, especially for large, geographically dispersed populations."
   ]
  },
  {
   "cell_type": "markdown",
   "id": "87db70e7-3c9d-48ae-b812-2c6e43b2be2c",
   "metadata": {},
   "source": [
    "# 6. Explain the concept of skewness and its types. How does skewness affect the interpretation of data?"
   ]
  },
  {
   "cell_type": "markdown",
   "id": "04b5995d-5f21-47ad-96b5-80d7c62c1281",
   "metadata": {},
   "source": [
    "## Skewness:"
   ]
  },
  {
   "cell_type": "markdown",
   "id": "a5d77363-919f-4de4-b0be-f0c0f22bb82f",
   "metadata": {},
   "source": [
    "### Skewness is a statistical measure that describes the asymmetry of a probability distribution.It tells us whether a distribution is symmetric or skewed, and the direction of the skew."
   ]
  },
  {
   "cell_type": "markdown",
   "id": "4fb00cab-d22a-48f3-9ddb-ae45144ac503",
   "metadata": {},
   "source": [
    "## Type of skewness:"
   ]
  },
  {
   "cell_type": "markdown",
   "id": "990ba6d9-a426-4e29-bf18-e9a231a9a19c",
   "metadata": {},
   "source": [
    "## 1. Positive Skewness(Right Skewness):"
   ]
  },
  {
   "cell_type": "markdown",
   "id": "7a0e44b9-4ec3-4e4c-9dc5-add1e10ceb30",
   "metadata": {},
   "source": [
    "### > The Tail of the distribution is longer on the right side.\n",
    "### > The mean is greater than the median.\n",
    "### > Example : Income distribution, real estate prices."
   ]
  },
  {
   "cell_type": "markdown",
   "id": "510d173a-1576-414a-8a17-7de0a9a70a99",
   "metadata": {},
   "source": [
    "## 2. Negative Skewness(Left Skewness):"
   ]
  },
  {
   "cell_type": "markdown",
   "id": "84a9b55c-c68f-4f58-be84-c13ce6021f0e",
   "metadata": {},
   "source": [
    "### > The Tail of the distribution is longer on the left side.\n",
    "### > The mean is less than the median.\n",
    "### Example : Scores , Life Expectancy"
   ]
  },
  {
   "cell_type": "markdown",
   "id": "ca90b370-80f1-44e2-a9f3-3b80d83b91ad",
   "metadata": {},
   "source": [
    "## 3. No Skewness(Symmetric Distribution):"
   ]
  },
  {
   "cell_type": "markdown",
   "id": "dd58384a-0f00-4f30-923d-50da30a4d187",
   "metadata": {},
   "source": [
    "### > perfectly symmetric and normal distribution \n",
    "### > mean, median and mode all are equal and located at the center of distribution."
   ]
  },
  {
   "cell_type": "markdown",
   "id": "0aa5fa16-dc93-4cbc-bc09-9859d4932d8f",
   "metadata": {},
   "source": [
    "## How Skewness affect the data interpretation:"
   ]
  },
  {
   "cell_type": "markdown",
   "id": "b7269e17-9df7-4af5-8b41-0b7c393fe0d1",
   "metadata": {},
   "source": [
    "## 1. Central tendency:"
   ]
  },
  {
   "cell_type": "markdown",
   "id": "300ec24f-3b13-43b1-9032-8620cc93c322",
   "metadata": {},
   "source": [
    "### Mean : Sensitive to outliers, it can be pulled towards the tail in skewed distributions.\n",
    "### Median: More robust to outliers, it is often a better measure of central tendency for skewed data.\n",
    "### Mode: Can be useful for identifying the most frequent value, especially in multimodal distributions.\n"
   ]
  },
  {
   "cell_type": "markdown",
   "id": "9700dd7a-8875-4b4d-acba-be4a964075ca",
   "metadata": {},
   "source": [
    "## 2. Dispersion:"
   ]
  },
  {
   "cell_type": "markdown",
   "id": "8435e248-5d6a-4121-bd06-df67e684244f",
   "metadata": {},
   "source": [
    "### Standard Deviation: Can be misleading in skewed distributions, as it is influenced by outliers.\n",
    "### Interquartile Range (IQR): A more robust measure of dispersion, as it is less affected by outliers."
   ]
  },
  {
   "cell_type": "markdown",
   "id": "09289e94-2671-4a4f-9e3c-d391bc2d0ed6",
   "metadata": {},
   "source": [
    "# 7. What is the interquartile range (IQR), and how is it used to detect outliers?"
   ]
  },
  {
   "cell_type": "markdown",
   "id": "865b4c48-1541-4b03-9be7-7bfcba79494b",
   "metadata": {},
   "source": [
    "### The Interquartile Range (IQR) is a statistical measure that indicates the range of the middle 50% of a dataset. It's calculated by subtracting the first quartile (Q1) from the third quartile (Q3)."
   ]
  },
  {
   "cell_type": "markdown",
   "id": "033b3bce-1301-4f79-b4c9-f81c963d4335",
   "metadata": {},
   "source": [
    "### Formula:\n",
    "\n",
    "### IQR = Q3 - Q1"
   ]
  },
  {
   "cell_type": "markdown",
   "id": "dcf19761-0ad8-410e-a533-7ccdecb8b561",
   "metadata": {},
   "source": [
    "## Detecting Outliers Using IQR:"
   ]
  },
  {
   "cell_type": "markdown",
   "id": "46fe715b-be3b-4524-b9a2-a2c750611535",
   "metadata": {},
   "source": [
    "### Outliers are data points that significantly deviate from the general trend of the data. The IQR can be used to identify potential outliers by calculating a range beyond which data points are considered unusual."
   ]
  },
  {
   "cell_type": "markdown",
   "id": "70ec1ac8-75e4-4f61-994e-96813f71069f",
   "metadata": {},
   "source": [
    "## Steps to Identify Outliers Using IQR:"
   ]
  },
  {
   "cell_type": "markdown",
   "id": "33202d79-2b2d-41e7-bfe3-a72b79202b90",
   "metadata": {},
   "source": [
    "### 1. Calculate IQR: Determine the difference between the third and first quartiles.\n",
    "### 2. Calculate Lower and Upper Fences:\n",
    "### > Lower Fence = Q1 - 1.5 * IQR\n",
    "### > Upper Fence = Q3 + 1.5 * IQR\n",
    "### 3. Identify Outliers:\n",
    "### Any data point below the Lower Fence or above the Upper Fence is considered an outlier.   "
   ]
  },
  {
   "cell_type": "markdown",
   "id": "114e8857-f0e5-49f5-9b73-aeaaca74bb98",
   "metadata": {},
   "source": [
    "# 8. Discuss the conditions under which the binomial distribution is used."
   ]
  },
  {
   "cell_type": "markdown",
   "id": "dd6112d7-255f-46c1-ab90-9489d877ba37",
   "metadata": {},
   "source": [
    "### The binomial distribution is a discrete probability distribution that describes the number of successes in a fixed number of independent Bernoulli trials.For a random variable X to follow a binomial distribution, the following conditions must be met:"
   ]
  },
  {
   "cell_type": "markdown",
   "id": "0af6170d-018a-4aa1-a997-1b98772a7af8",
   "metadata": {},
   "source": [
    "### 1. Fixed Number of Trials (n): The experiment must have a fixed number of trials, denoted by n.\n",
    "### 2. Independent Trials: Each trial must be independent of the others.The outcome of one trial does not affect the outcome of any other trial.\n",
    "### 3. Two Possible Outcomes: Each trial must have only two possible outcomes: success or failure.\n",
    "### 4. Constant Probability of Success (p): The probability of success (p) must remain constant for each trial.The probability of failure (q) is then 1-p. "
   ]
  },
  {
   "cell_type": "markdown",
   "id": "76dd2258-8397-4a98-aa5a-1cc72fcc892d",
   "metadata": {},
   "source": [
    "# 9. Explain the properties of the normal distribution and the empirical rule (68-95-99.7 rule)."
   ]
  },
  {
   "cell_type": "markdown",
   "id": "6aa6f325-c0db-4881-9142-956080d0ad92",
   "metadata": {},
   "source": [
    "### The normal distribution, often referred to as the bell curve, is a probability distribution that is symmetric about the mean. It's characterized by its bell shape, with the majority of data points clustered around the mean and fewer data points farther away."
   ]
  },
  {
   "cell_type": "markdown",
   "id": "e4b65a8f-8a5e-4d43-9c01-bce580be1d0e",
   "metadata": {},
   "source": [
    "## Properties of Normal Distribution:"
   ]
  },
  {
   "cell_type": "markdown",
   "id": "c27e5c4c-1dab-41e0-b9a4-62711f66b65c",
   "metadata": {},
   "source": [
    "### Symmetry: The distribution is symmetric about the mean.\n",
    "### Mean, Median, and Mode: The mean, median, and mode are equal.\n",
    "### Standard Deviation: The standard deviation determines the spread of the distribution.\n",
    "### Area Under the Curve: The total area under the curve is equal to 1."
   ]
  },
  {
   "cell_type": "markdown",
   "id": "c21da5be-70f0-4084-876e-d2841a81fcf0",
   "metadata": {},
   "source": [
    "## Empirical Rule (68-95-99.7 Rule):"
   ]
  },
  {
   "cell_type": "markdown",
   "id": "feea9bfa-cd22-43ac-bf0c-6f0401017327",
   "metadata": {},
   "source": [
    "### The empirical rule, also known as the 68-95-99.7 rule, is a statistical rule that specifies the percentage of data points that fall within a certain number of standard deviations from the mean in a normal distribution:"
   ]
  },
  {
   "cell_type": "markdown",
   "id": "05f0ec87-f80d-4c82-a5c1-23579c17dce4",
   "metadata": {},
   "source": [
    "### 68%: Approximately 68% of the data falls within one standard deviation of the mean.\n",
    "### 95%: Approximately 95% of the data falls within two standard deviations of the mean.\n",
    "### 99.7%: Approximately 99.7% of the data falls within three standard deviations of the mean."
   ]
  },
  {
   "cell_type": "markdown",
   "id": "3b1a29f7-261c-48fb-97e4-a07ea34efe01",
   "metadata": {},
   "source": [
    "# 10. Provide a real-life example of a Poisson process and calculate the probability for a specific event."
   ]
  },
  {
   "cell_type": "markdown",
   "id": "25e90f95-8895-4201-9f4d-0768fac2d707",
   "metadata": {},
   "source": [
    "### A Poisson process is a stochastic process that models the number of events occurring in a fixed interval of time or space. A common real-life example is the number of customers arriving at a store in a given hour. "
   ]
  },
  {
   "cell_type": "markdown",
   "id": "5cde312d-d7ab-4a9a-8c34-46cc4452e414",
   "metadata": {},
   "source": [
    "## Assumptions of a Poisson Process:"
   ]
  },
  {
   "cell_type": "markdown",
   "id": "cd7fb244-b0ba-4c5c-86df-f0407fee231b",
   "metadata": {},
   "source": [
    "### > Events occur randomly and independently.\n",
    "### > The average rate of occurrence (λ) is constant over time.\n",
    "### > The probability of two or more events occurring simultaneously is negligible."
   ]
  },
  {
   "cell_type": "markdown",
   "id": "9fafe866-5574-4d98-b98a-3070b1b7a7dd",
   "metadata": {},
   "source": [
    "## Calculating Probability:"
   ]
  },
  {
   "cell_type": "markdown",
   "id": "19b6f77c-2cd9-4519-a111-1a09301ebb18",
   "metadata": {},
   "source": [
    "### Let's say, on average, 10 customers arrive at a store per hour (λ = 10). We want to calculate the probability that exactly 15 customers arrive in an hour."
   ]
  },
  {
   "cell_type": "markdown",
   "id": "3c5c3d81-f7f4-4b77-a662-c6fbb19d8cca",
   "metadata": {},
   "source": [
    "### The probability mass function (PMF) of a Poisson distribution is given by:"
   ]
  },
  {
   "cell_type": "markdown",
   "id": "d46e0a2d-cfa1-4a48-85a9-afaab74c334a",
   "metadata": {},
   "source": [
    "### P(X = k) = (e^(-λ) * λ^k) / k!"
   ]
  },
  {
   "cell_type": "markdown",
   "id": "e92fec8a-f298-414d-b423-1470f4725cc3",
   "metadata": {},
   "source": [
    "### Where:\n",
    "\n",
    "### P(X = k) is the probability of k events occurring.   \n",
    "### λ is the average rate of occurrence.\n",
    "### k is the number of events.\n",
    "### e is the base of the natural logarithm (approximately 2.71828)."
   ]
  },
  {
   "cell_type": "markdown",
   "id": "dbad8086-1668-47bc-9a03-615f7c952b4b",
   "metadata": {},
   "source": [
    "### In our case:\n",
    "\n",
    "### λ = 10\n",
    "### k = 15"
   ]
  },
  {
   "cell_type": "markdown",
   "id": "75df6c29-5adf-4c1e-bfb6-8edc6b9a43dc",
   "metadata": {},
   "source": [
    "### So, the probability of 15 customers arriving in an hour is:"
   ]
  },
  {
   "cell_type": "markdown",
   "id": "55b2858b-94d5-4bc5-a5d2-bd2530e0e14a",
   "metadata": {},
   "source": [
    "### P(X = 15) = (e^(-10) * 10^15) / 15!"
   ]
  },
  {
   "cell_type": "markdown",
   "id": "1bcaff70-ba98-407a-a3ac-b5f3cc005ba2",
   "metadata": {},
   "source": [
    "# 11. Explain what a random variable is and differentiate between discrete and continuous random variables."
   ]
  },
  {
   "cell_type": "markdown",
   "id": "55799061-63e9-461f-8408-1d652dcf1c44",
   "metadata": {},
   "source": [
    "### A random variable is a numerical representation of the outcome of a random phenomenon. It assigns a numerical value to each possible outcome of an experiment."
   ]
  },
  {
   "cell_type": "markdown",
   "id": "dbb5a025-e185-4c29-9e9e-540529a4745f",
   "metadata": {},
   "source": [
    "## Types of Random Variables:"
   ]
  },
  {
   "cell_type": "markdown",
   "id": "cab45d39-0dbe-4033-ad80-cc7ea77be855",
   "metadata": {},
   "source": [
    "## 1.Discrete Random variable:"
   ]
  },
  {
   "cell_type": "markdown",
   "id": "39508662-c708-4320-a3cc-05679a04ef51",
   "metadata": {},
   "source": [
    "### Takes on a countable number of values.\n",
    "### Often associated with counting processes."
   ]
  },
  {
   "cell_type": "markdown",
   "id": "0474a1d4-3a13-4f7c-ac91-d4bbba5dd284",
   "metadata": {},
   "source": [
    "### Examples:\n",
    "### Number of heads in 10 coin flips\n",
    "### Number of cars passing a toll booth in an hour\n",
    "### Number of defective items in a batch"
   ]
  },
  {
   "cell_type": "markdown",
   "id": "55d25633-bac7-40dc-86d8-641e07a642a6",
   "metadata": {},
   "source": [
    "## 2. Continuous Random Variable:"
   ]
  },
  {
   "cell_type": "markdown",
   "id": "4360214f-dd6d-4f9f-a2d4-9d60695ef783",
   "metadata": {},
   "source": [
    "### Can take on any value within a specific interval.\n",
    "### Often associated with measurements.\n",
    "### Examples:\n",
    "### Height of a person\n",
    "### Weight of an object\n",
    "### Time taken to complete a task"
   ]
  },
  {
   "cell_type": "markdown",
   "id": "a83cee38-a425-4d13-a3e8-bfdf112d90f7",
   "metadata": {},
   "source": [
    "# 12. Provide an example dataset, calculate both covariance and correlation, and interpret the results."
   ]
  },
  {
   "cell_type": "markdown",
   "id": "a0b72d85-9913-4736-b3ad-d4d37b6cc94d",
   "metadata": {},
   "source": [
    "## Example Dataset: Ice Cream Sales and Temperature"
   ]
  },
  {
   "cell_type": "markdown",
   "id": "9e30d86b-a2a8-4e09-8d55-cb7d39c9777e",
   "metadata": {},
   "source": [
    "### Let's consider a hypothetical dataset that tracks daily ice cream sales and the corresponding daily average temperature."
   ]
  },
  {
   "cell_type": "code",
   "execution_count": 5,
   "id": "6a6b4f65-aec3-48b9-8e2d-6f9da3c69ce1",
   "metadata": {},
   "outputs": [],
   "source": [
    "import numpy as np\n",
    "import pandas as pd"
   ]
  },
  {
   "cell_type": "code",
   "execution_count": 6,
   "id": "22f9ead0-9dc1-4b05-a24f-64dde84f72a0",
   "metadata": {},
   "outputs": [],
   "source": [
    "data = {\"Day\":(1,2,3,4,5),\"Ice Cream Sales(Units)\":(100,120,80,150,90),\"Average Temperature(*C)\":(25,30,20,35,22)}"
   ]
  },
  {
   "cell_type": "code",
   "execution_count": 7,
   "id": "3876eefd-e51b-4509-91fa-459d16900bdc",
   "metadata": {},
   "outputs": [],
   "source": [
    "data1 = pd.DataFrame(data)"
   ]
  },
  {
   "cell_type": "code",
   "execution_count": 8,
   "id": "153e0bed-d0b1-4ed6-9644-e30d2d467610",
   "metadata": {},
   "outputs": [
    {
     "data": {
      "text/html": [
       "<div>\n",
       "<style scoped>\n",
       "    .dataframe tbody tr th:only-of-type {\n",
       "        vertical-align: middle;\n",
       "    }\n",
       "\n",
       "    .dataframe tbody tr th {\n",
       "        vertical-align: top;\n",
       "    }\n",
       "\n",
       "    .dataframe thead th {\n",
       "        text-align: right;\n",
       "    }\n",
       "</style>\n",
       "<table border=\"1\" class=\"dataframe\">\n",
       "  <thead>\n",
       "    <tr style=\"text-align: right;\">\n",
       "      <th></th>\n",
       "      <th>Day</th>\n",
       "      <th>Ice Cream Sales(Units)</th>\n",
       "      <th>Average Temperature(*C)</th>\n",
       "    </tr>\n",
       "  </thead>\n",
       "  <tbody>\n",
       "    <tr>\n",
       "      <th>0</th>\n",
       "      <td>1</td>\n",
       "      <td>100</td>\n",
       "      <td>25</td>\n",
       "    </tr>\n",
       "    <tr>\n",
       "      <th>1</th>\n",
       "      <td>2</td>\n",
       "      <td>120</td>\n",
       "      <td>30</td>\n",
       "    </tr>\n",
       "    <tr>\n",
       "      <th>2</th>\n",
       "      <td>3</td>\n",
       "      <td>80</td>\n",
       "      <td>20</td>\n",
       "    </tr>\n",
       "    <tr>\n",
       "      <th>3</th>\n",
       "      <td>4</td>\n",
       "      <td>150</td>\n",
       "      <td>35</td>\n",
       "    </tr>\n",
       "    <tr>\n",
       "      <th>4</th>\n",
       "      <td>5</td>\n",
       "      <td>90</td>\n",
       "      <td>22</td>\n",
       "    </tr>\n",
       "  </tbody>\n",
       "</table>\n",
       "</div>"
      ],
      "text/plain": [
       "   Day  Ice Cream Sales(Units)  Average Temperature(*C)\n",
       "0    1                     100                       25\n",
       "1    2                     120                       30\n",
       "2    3                      80                       20\n",
       "3    4                     150                       35\n",
       "4    5                      90                       22"
      ]
     },
     "execution_count": 8,
     "metadata": {},
     "output_type": "execute_result"
    }
   ],
   "source": [
    "data1"
   ]
  },
  {
   "cell_type": "code",
   "execution_count": 9,
   "id": "c9c26aab-1aa8-4fb4-a06a-b9495f192dfc",
   "metadata": {},
   "outputs": [
    {
     "data": {
      "text/html": [
       "<div>\n",
       "<style scoped>\n",
       "    .dataframe tbody tr th:only-of-type {\n",
       "        vertical-align: middle;\n",
       "    }\n",
       "\n",
       "    .dataframe tbody tr th {\n",
       "        vertical-align: top;\n",
       "    }\n",
       "\n",
       "    .dataframe thead th {\n",
       "        text-align: right;\n",
       "    }\n",
       "</style>\n",
       "<table border=\"1\" class=\"dataframe\">\n",
       "  <thead>\n",
       "    <tr style=\"text-align: right;\">\n",
       "      <th></th>\n",
       "      <th>Day</th>\n",
       "      <th>Ice Cream Sales(Units)</th>\n",
       "      <th>Average Temperature(*C)</th>\n",
       "    </tr>\n",
       "  </thead>\n",
       "  <tbody>\n",
       "    <tr>\n",
       "      <th>Day</th>\n",
       "      <td>2.50</td>\n",
       "      <td>2.5</td>\n",
       "      <td>-0.25</td>\n",
       "    </tr>\n",
       "    <tr>\n",
       "      <th>Ice Cream Sales(Units)</th>\n",
       "      <td>2.50</td>\n",
       "      <td>770.0</td>\n",
       "      <td>168.50</td>\n",
       "    </tr>\n",
       "    <tr>\n",
       "      <th>Average Temperature(*C)</th>\n",
       "      <td>-0.25</td>\n",
       "      <td>168.5</td>\n",
       "      <td>37.30</td>\n",
       "    </tr>\n",
       "  </tbody>\n",
       "</table>\n",
       "</div>"
      ],
      "text/plain": [
       "                          Day  Ice Cream Sales(Units)  Average Temperature(*C)\n",
       "Day                      2.50                     2.5                    -0.25\n",
       "Ice Cream Sales(Units)   2.50                   770.0                   168.50\n",
       "Average Temperature(*C) -0.25                   168.5                    37.30"
      ]
     },
     "execution_count": 9,
     "metadata": {},
     "output_type": "execute_result"
    }
   ],
   "source": [
    "data1.cov()"
   ]
  },
  {
   "cell_type": "code",
   "execution_count": 10,
   "id": "c95edb2c-510a-4d92-b3ee-12be5c935810",
   "metadata": {},
   "outputs": [
    {
     "data": {
      "text/html": [
       "<div>\n",
       "<style scoped>\n",
       "    .dataframe tbody tr th:only-of-type {\n",
       "        vertical-align: middle;\n",
       "    }\n",
       "\n",
       "    .dataframe tbody tr th {\n",
       "        vertical-align: top;\n",
       "    }\n",
       "\n",
       "    .dataframe thead th {\n",
       "        text-align: right;\n",
       "    }\n",
       "</style>\n",
       "<table border=\"1\" class=\"dataframe\">\n",
       "  <thead>\n",
       "    <tr style=\"text-align: right;\">\n",
       "      <th></th>\n",
       "      <th>Day</th>\n",
       "      <th>Ice Cream Sales(Units)</th>\n",
       "      <th>Average Temperature(*C)</th>\n",
       "    </tr>\n",
       "  </thead>\n",
       "  <tbody>\n",
       "    <tr>\n",
       "      <th>Day</th>\n",
       "      <td>1.000000</td>\n",
       "      <td>0.05698</td>\n",
       "      <td>-0.025889</td>\n",
       "    </tr>\n",
       "    <tr>\n",
       "      <th>Ice Cream Sales(Units)</th>\n",
       "      <td>0.056980</td>\n",
       "      <td>1.00000</td>\n",
       "      <td>0.994260</td>\n",
       "    </tr>\n",
       "    <tr>\n",
       "      <th>Average Temperature(*C)</th>\n",
       "      <td>-0.025889</td>\n",
       "      <td>0.99426</td>\n",
       "      <td>1.000000</td>\n",
       "    </tr>\n",
       "  </tbody>\n",
       "</table>\n",
       "</div>"
      ],
      "text/plain": [
       "                              Day  Ice Cream Sales(Units)  \\\n",
       "Day                      1.000000                 0.05698   \n",
       "Ice Cream Sales(Units)   0.056980                 1.00000   \n",
       "Average Temperature(*C) -0.025889                 0.99426   \n",
       "\n",
       "                         Average Temperature(*C)  \n",
       "Day                                    -0.025889  \n",
       "Ice Cream Sales(Units)                  0.994260  \n",
       "Average Temperature(*C)                 1.000000  "
      ]
     },
     "execution_count": 10,
     "metadata": {},
     "output_type": "execute_result"
    }
   ],
   "source": [
    "data1.corr()"
   ]
  },
  {
   "cell_type": "code",
   "execution_count": null,
   "id": "e114e8f0-b07d-4c35-8fe3-552778270983",
   "metadata": {},
   "outputs": [],
   "source": []
  }
 ],
 "metadata": {
  "kernelspec": {
   "display_name": "Python 3 (ipykernel)",
   "language": "python",
   "name": "python3"
  },
  "language_info": {
   "codemirror_mode": {
    "name": "ipython",
    "version": 3
   },
   "file_extension": ".py",
   "mimetype": "text/x-python",
   "name": "python",
   "nbconvert_exporter": "python",
   "pygments_lexer": "ipython3",
   "version": "3.12.5"
  }
 },
 "nbformat": 4,
 "nbformat_minor": 5
}
